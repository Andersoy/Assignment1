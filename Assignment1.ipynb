{
 "cells": [
  {
   "cell_type": "code",
   "execution_count": 1,
   "metadata": {},
   "outputs": [],
   "source": [
    "# Gruppemedlemmer: \n",
    "# Anders Magnus Ytterbøe: s330474\n",
    "# Tobias Dyre Evju: s331386\n",
    "# Anders Øyrehagen: s331398"
   ]
  },
  {
   "cell_type": "code",
   "execution_count": 26,
   "metadata": {},
   "outputs": [],
   "source": [
    "import pandas as panda\n",
    "import matplotlib\n",
    "from matplotlib import pyplot as plot\n",
    "import seaborn as sns\n",
    "from datetime import datetime"
   ]
  },
  {
   "cell_type": "code",
   "execution_count": 30,
   "metadata": {},
   "outputs": [],
   "source": [
    "dataframe = panda.read_csv(\"Assignment1/Ruter_data.csv\", delimiter=\";\")"
   ]
  },
  {
   "cell_type": "code",
   "execution_count": 31,
   "metadata": {},
   "outputs": [
    {
     "data": {
      "text/plain": [
       "(6000, 17)"
      ]
     },
     "execution_count": 31,
     "metadata": {},
     "output_type": "execute_result"
    }
   ],
   "source": [
    "#1.\n",
    "#Ønsker å se hvor mange avganger som er registrert\n",
    "dataframe.shape"
   ]
  },
  {
   "cell_type": "code",
   "execution_count": 32,
   "metadata": {},
   "outputs": [
    {
     "data": {
      "text/plain": [
       "9805"
      ]
     },
     "execution_count": 32,
     "metadata": {},
     "output_type": "execute_result"
    }
   ],
   "source": [
    "#2.\n",
    "#Totalt antall passasjerer ombord i Oslo\n",
    "dataframe[dataframe['Fylke'] == 'Oslo'].Passasjerer_Ombord.sum()"
   ]
  },
  {
   "cell_type": "code",
   "execution_count": 33,
   "metadata": {},
   "outputs": [],
   "source": [
    "#3.\n",
    "#Finner ut hvilke stopp som har flest påstigende og flest avstigende\n",
    "#Lager ny dataframe som grupperer basert på \"Holdeplass_Fra\"\n",
    "grouped_dataframe = dataframe.groupby('Holdeplass_Fra')"
   ]
  },
  {
   "cell_type": "code",
   "execution_count": 34,
   "metadata": {},
   "outputs": [],
   "source": [
    "#Lager ny kolonne med totalt antall ombordstigende passasjerer og plasserer summen i ny kolonne\n",
    "dataframe[\"totalt_ombordstigende\"] = grouped_dataframe[[\"Passasjerer_Ombord\"]].transform(sum)"
   ]
  },
  {
   "cell_type": "code",
   "execution_count": 35,
   "metadata": {},
   "outputs": [],
   "source": [
    "#Kopierer innholdet fra dataframe over i en ny dataframe, men viser kun de nødvendige kolonnene\n",
    "utvalgt_dataframe = dataframe[['Holdeplass_Fra','totalt_ombordstigende']].copy()"
   ]
  },
  {
   "cell_type": "code",
   "execution_count": 36,
   "metadata": {},
   "outputs": [
    {
     "data": {
      "text/html": [
       "<div>\n",
       "<style scoped>\n",
       "    .dataframe tbody tr th:only-of-type {\n",
       "        vertical-align: middle;\n",
       "    }\n",
       "\n",
       "    .dataframe tbody tr th {\n",
       "        vertical-align: top;\n",
       "    }\n",
       "\n",
       "    .dataframe thead th {\n",
       "        text-align: right;\n",
       "    }\n",
       "</style>\n",
       "<table border=\"1\" class=\"dataframe\">\n",
       "  <thead>\n",
       "    <tr style=\"text-align: right;\">\n",
       "      <th></th>\n",
       "      <th>Holdeplass_Fra</th>\n",
       "      <th>totalt_ombordstigende</th>\n",
       "    </tr>\n",
       "  </thead>\n",
       "  <tbody>\n",
       "    <tr>\n",
       "      <th>1252</th>\n",
       "      <td>Herstukrysset</td>\n",
       "      <td>-65</td>\n",
       "    </tr>\n",
       "    <tr>\n",
       "      <th>1210</th>\n",
       "      <td>Økri</td>\n",
       "      <td>-36</td>\n",
       "    </tr>\n",
       "    <tr>\n",
       "      <th>15</th>\n",
       "      <td>Guldbrandslia</td>\n",
       "      <td>-26</td>\n",
       "    </tr>\n",
       "    <tr>\n",
       "      <th>620</th>\n",
       "      <td>Johnsrudgata</td>\n",
       "      <td>-22</td>\n",
       "    </tr>\n",
       "    <tr>\n",
       "      <th>680</th>\n",
       "      <td>Sandbråten  (mot Skansebakken)</td>\n",
       "      <td>-22</td>\n",
       "    </tr>\n",
       "    <tr>\n",
       "      <th>...</th>\n",
       "      <td>...</td>\n",
       "      <td>...</td>\n",
       "    </tr>\n",
       "    <tr>\n",
       "      <th>109</th>\n",
       "      <td>Sagdalen skole</td>\n",
       "      <td>202</td>\n",
       "    </tr>\n",
       "    <tr>\n",
       "      <th>442</th>\n",
       "      <td>Vålerenga  (mot Galgeberg)</td>\n",
       "      <td>205</td>\n",
       "    </tr>\n",
       "    <tr>\n",
       "      <th>1032</th>\n",
       "      <td>Helsfyr T  (plf. E mot Teisenkrysset)</td>\n",
       "      <td>252</td>\n",
       "    </tr>\n",
       "    <tr>\n",
       "      <th>156</th>\n",
       "      <td>Jenseberget</td>\n",
       "      <td>304</td>\n",
       "    </tr>\n",
       "    <tr>\n",
       "      <th>288</th>\n",
       "      <td>Teisenkrysset  (fra Helsfyr)</td>\n",
       "      <td>317</td>\n",
       "    </tr>\n",
       "  </tbody>\n",
       "</table>\n",
       "<p>1632 rows × 2 columns</p>\n",
       "</div>"
      ],
      "text/plain": [
       "                             Holdeplass_Fra  totalt_ombordstigende\n",
       "1252                          Herstukrysset                    -65\n",
       "1210                                   Økri                    -36\n",
       "15                            Guldbrandslia                    -26\n",
       "620                            Johnsrudgata                    -22\n",
       "680          Sandbråten  (mot Skansebakken)                    -22\n",
       "...                                     ...                    ...\n",
       "109                          Sagdalen skole                    202\n",
       "442              Vålerenga  (mot Galgeberg)                    205\n",
       "1032  Helsfyr T  (plf. E mot Teisenkrysset)                    252\n",
       "156                             Jenseberget                    304\n",
       "288            Teisenkrysset  (fra Helsfyr)                    317\n",
       "\n",
       "[1632 rows x 2 columns]"
      ]
     },
     "execution_count": 36,
     "metadata": {},
     "output_type": "execute_result"
    }
   ],
   "source": [
    "#Fjerner duplikater og sorterer basert på \"totalt_ombordstigende\"\n",
    "utvalgt_dataframe.drop_duplicates().sort_values(\"totalt_ombordstigende\")"
   ]
  },
  {
   "cell_type": "code",
   "execution_count": 37,
   "metadata": {},
   "outputs": [],
   "source": [
    "#4.\n",
    "#Vi ønsker nå å finne ut hvilke stopp som har størst differanse mellom planlagt avgang og faktisk avgang i Oslo.\n",
    "#Lager en ny dataframe som kun viser Fylke = Oslo\n",
    "dataframe_oslo = dataframe[dataframe['Fylke'] == 'Oslo']"
   ]
  },
  {
   "cell_type": "code",
   "execution_count": 38,
   "metadata": {},
   "outputs": [],
   "source": [
    "#Oppdaterer ny dataframe med kun de relevante kolonnene\n",
    "dataframe_oslo = dataframe_oslo[['Linjenavn', 'Holdeplass_Fra', 'Dato', 'Tidspunkt_Planlagt_Avgang_Holdeplass_Fra','Tidspunkt_Faktisk_Avgang_Holdeplass_Fra' ]].copy()"
   ]
  },
  {
   "cell_type": "code",
   "execution_count": 39,
   "metadata": {},
   "outputs": [],
   "source": [
    "#Gjør om timer som begynner på 24 og 25 til 00 og 01 og lagrer i nye kolonner\n",
    "dataframe_oslo['Tidspunkt_Faktisk_Avgang_Holdeplass_Fra'] = dataframe_oslo['Tidspunkt_Faktisk_Avgang_Holdeplass_Fra'].str.replace('^24', '00', regex=True).str.replace('^25', '01', regex=True)\n",
    "dataframe_oslo['Tidspunkt_Planlagt_Avgang_Holdeplass_Fra'] = dataframe_oslo['Tidspunkt_Planlagt_Avgang_Holdeplass_Fra'].str.replace('^24', '00', regex=True).str.replace('^25', '01', regex=True)"
   ]
  },
  {
   "cell_type": "code",
   "execution_count": 40,
   "metadata": {},
   "outputs": [],
   "source": [
    "#Gjør om avgangene til datetimeobjekt med dato\n",
    "dataframe_oslo.Tidspunkt_Faktisk_Avgang_Holdeplass_Fra=panda.to_datetime(dataframe_oslo.Dato+'/'+dataframe_oslo.Tidspunkt_Faktisk_Avgang_Holdeplass_Fra)\n",
    "dataframe_oslo.Tidspunkt_Planlagt_Avgang_Holdeplass_Fra=panda.to_datetime(dataframe_oslo.Dato+'/'+dataframe_oslo.Tidspunkt_Planlagt_Avgang_Holdeplass_Fra)"
   ]
  },
  {
   "cell_type": "code",
   "execution_count": 41,
   "metadata": {},
   "outputs": [],
   "source": [
    "#Regner ut forskjellen mellom faktisk avgang og planlagt avgang og sorterer listen\n",
    "dataframe_oslo['Faktisk_Planlagt_Forskjell'] = dataframe_oslo['Tidspunkt_Faktisk_Avgang_Holdeplass_Fra'] - dataframe_oslo['Tidspunkt_Planlagt_Avgang_Holdeplass_Fra']\n",
    "dataframe_oslo = dataframe_oslo.sort_values(by=['Faktisk_Planlagt_Forskjell'])\n"
   ]
  },
  {
   "cell_type": "code",
   "execution_count": 42,
   "metadata": {},
   "outputs": [
    {
     "data": {
      "text/html": [
       "<div>\n",
       "<style scoped>\n",
       "    .dataframe tbody tr th:only-of-type {\n",
       "        vertical-align: middle;\n",
       "    }\n",
       "\n",
       "    .dataframe tbody tr th {\n",
       "        vertical-align: top;\n",
       "    }\n",
       "\n",
       "    .dataframe thead th {\n",
       "        text-align: right;\n",
       "    }\n",
       "</style>\n",
       "<table border=\"1\" class=\"dataframe\">\n",
       "  <thead>\n",
       "    <tr style=\"text-align: right;\">\n",
       "      <th></th>\n",
       "      <th>Linjenavn</th>\n",
       "      <th>Holdeplass_Fra</th>\n",
       "      <th>Dato</th>\n",
       "      <th>Tidspunkt_Planlagt_Avgang_Holdeplass_Fra</th>\n",
       "      <th>Tidspunkt_Faktisk_Avgang_Holdeplass_Fra</th>\n",
       "      <th>Faktisk_Planlagt_Forskjell</th>\n",
       "    </tr>\n",
       "  </thead>\n",
       "  <tbody>\n",
       "    <tr>\n",
       "      <th>3484</th>\n",
       "      <td>250</td>\n",
       "      <td>Sjølyst  (mot Vækerø etter rundkjøringen) (plf B)</td>\n",
       "      <td>12/08/2020</td>\n",
       "      <td>2020-12-08 17:08:00</td>\n",
       "      <td>2020-12-08 18:07:02</td>\n",
       "      <td>0 days 00:59:02</td>\n",
       "    </tr>\n",
       "    <tr>\n",
       "      <th>4217</th>\n",
       "      <td>91</td>\n",
       "      <td>Herslebs gate (mot sentrum)</td>\n",
       "      <td>03/06/2020</td>\n",
       "      <td>2020-03-06 21:46:00</td>\n",
       "      <td>2020-03-06 22:32:59</td>\n",
       "      <td>0 days 00:46:59</td>\n",
       "    </tr>\n",
       "    <tr>\n",
       "      <th>214</th>\n",
       "      <td>34</td>\n",
       "      <td>Sagene  (fra Tåsen)</td>\n",
       "      <td>05/08/2020</td>\n",
       "      <td>2020-05-08 16:33:00</td>\n",
       "      <td>2020-05-08 17:06:32</td>\n",
       "      <td>0 days 00:33:32</td>\n",
       "    </tr>\n",
       "    <tr>\n",
       "      <th>1527</th>\n",
       "      <td>250E</td>\n",
       "      <td>Vika atrium  (mot Filipstad)</td>\n",
       "      <td>19/08/2020</td>\n",
       "      <td>2020-08-19 16:56:00</td>\n",
       "      <td>2020-08-19 17:29:11</td>\n",
       "      <td>0 days 00:33:11</td>\n",
       "    </tr>\n",
       "    <tr>\n",
       "      <th>4500</th>\n",
       "      <td>31</td>\n",
       "      <td>Tollboden (Plf. N - mot øst)</td>\n",
       "      <td>30/06/2020</td>\n",
       "      <td>2020-06-30 14:08:00</td>\n",
       "      <td>2020-06-30 14:41:07</td>\n",
       "      <td>0 days 00:33:07</td>\n",
       "    </tr>\n",
       "    <tr>\n",
       "      <th>...</th>\n",
       "      <td>...</td>\n",
       "      <td>...</td>\n",
       "      <td>...</td>\n",
       "      <td>...</td>\n",
       "      <td>...</td>\n",
       "      <td>...</td>\n",
       "    </tr>\n",
       "    <tr>\n",
       "      <th>4879</th>\n",
       "      <td>45</td>\n",
       "      <td>Heggeli  (mot Majorstuen)</td>\n",
       "      <td>20/07/2020</td>\n",
       "      <td>2020-07-20 09:47:00</td>\n",
       "      <td>2020-07-20 09:47:01</td>\n",
       "      <td>0 days 00:00:01</td>\n",
       "    </tr>\n",
       "    <tr>\n",
       "      <th>2812</th>\n",
       "      <td>100</td>\n",
       "      <td>Kjelsrud  (fra Furuset)</td>\n",
       "      <td>27/07/2020</td>\n",
       "      <td>2020-07-27 09:29:00</td>\n",
       "      <td>2020-07-27 09:29:01</td>\n",
       "      <td>0 days 00:00:01</td>\n",
       "    </tr>\n",
       "    <tr>\n",
       "      <th>5154</th>\n",
       "      <td>300</td>\n",
       "      <td>Oslo bussterminal (Plf A20)</td>\n",
       "      <td>25/08/2020</td>\n",
       "      <td>2020-08-25 07:46:00</td>\n",
       "      <td>2020-08-25 07:46:01</td>\n",
       "      <td>0 days 00:00:01</td>\n",
       "    </tr>\n",
       "    <tr>\n",
       "      <th>3122</th>\n",
       "      <td>31</td>\n",
       "      <td>Nationaltheatret  (plf D mot øst)</td>\n",
       "      <td>31/07/2020</td>\n",
       "      <td>2020-07-31 06:49:00</td>\n",
       "      <td>2020-07-31 06:49:01</td>\n",
       "      <td>0 days 00:00:01</td>\n",
       "    </tr>\n",
       "    <tr>\n",
       "      <th>3431</th>\n",
       "      <td>91</td>\n",
       "      <td>Herslebs gate (mot sentrum)</td>\n",
       "      <td>14/06/2020</td>\n",
       "      <td>2020-06-14 12:23:00</td>\n",
       "      <td>2020-06-14 12:23:00</td>\n",
       "      <td>0 days 00:00:00</td>\n",
       "    </tr>\n",
       "  </tbody>\n",
       "</table>\n",
       "<p>1399 rows × 6 columns</p>\n",
       "</div>"
      ],
      "text/plain": [
       "     Linjenavn                                     Holdeplass_Fra        Dato  \\\n",
       "3484       250  Sjølyst  (mot Vækerø etter rundkjøringen) (plf B)  12/08/2020   \n",
       "4217        91                        Herslebs gate (mot sentrum)  03/06/2020   \n",
       "214         34                                Sagene  (fra Tåsen)  05/08/2020   \n",
       "1527      250E                       Vika atrium  (mot Filipstad)  19/08/2020   \n",
       "4500        31                       Tollboden (Plf. N - mot øst)  30/06/2020   \n",
       "...        ...                                                ...         ...   \n",
       "4879        45                          Heggeli  (mot Majorstuen)  20/07/2020   \n",
       "2812       100                            Kjelsrud  (fra Furuset)  27/07/2020   \n",
       "5154       300                        Oslo bussterminal (Plf A20)  25/08/2020   \n",
       "3122        31                  Nationaltheatret  (plf D mot øst)  31/07/2020   \n",
       "3431        91                        Herslebs gate (mot sentrum)  14/06/2020   \n",
       "\n",
       "     Tidspunkt_Planlagt_Avgang_Holdeplass_Fra  \\\n",
       "3484                      2020-12-08 17:08:00   \n",
       "4217                      2020-03-06 21:46:00   \n",
       "214                       2020-05-08 16:33:00   \n",
       "1527                      2020-08-19 16:56:00   \n",
       "4500                      2020-06-30 14:08:00   \n",
       "...                                       ...   \n",
       "4879                      2020-07-20 09:47:00   \n",
       "2812                      2020-07-27 09:29:00   \n",
       "5154                      2020-08-25 07:46:00   \n",
       "3122                      2020-07-31 06:49:00   \n",
       "3431                      2020-06-14 12:23:00   \n",
       "\n",
       "     Tidspunkt_Faktisk_Avgang_Holdeplass_Fra Faktisk_Planlagt_Forskjell  \n",
       "3484                     2020-12-08 18:07:02            0 days 00:59:02  \n",
       "4217                     2020-03-06 22:32:59            0 days 00:46:59  \n",
       "214                      2020-05-08 17:06:32            0 days 00:33:32  \n",
       "1527                     2020-08-19 17:29:11            0 days 00:33:11  \n",
       "4500                     2020-06-30 14:41:07            0 days 00:33:07  \n",
       "...                                      ...                        ...  \n",
       "4879                     2020-07-20 09:47:01            0 days 00:00:01  \n",
       "2812                     2020-07-27 09:29:01            0 days 00:00:01  \n",
       "5154                     2020-08-25 07:46:01            0 days 00:00:01  \n",
       "3122                     2020-07-31 06:49:01            0 days 00:00:01  \n",
       "3431                     2020-06-14 12:23:00            0 days 00:00:00  \n",
       "\n",
       "[1399 rows x 6 columns]"
      ]
     },
     "execution_count": 42,
     "metadata": {},
     "output_type": "execute_result"
    }
   ],
   "source": [
    "#Fjerner de første 139 linjene fordi disse hadde faktisk avgangstid før planlagt avgangstid og var derfor ikke relevante\n",
    "dataframe_oslo = dataframe_oslo.iloc[139:]\n",
    "\n",
    "#sorterer listen med størst forskjell i tid øverst \n",
    "dataframe_oslo = dataframe_oslo.sort_values(by=['Faktisk_Planlagt_Forskjell'], ascending = False)\n",
    "dataframe_oslo"
   ]
  },
  {
   "cell_type": "code",
   "execution_count": 43,
   "metadata": {},
   "outputs": [],
   "source": [
    "#5.\n",
    "#Finner ut av antall avganger i de forskjellige månedene\n",
    "antallPassMaanedJuni=dataframe[dataframe['Dato'].str.contains(r'(?!$)/06/(?!$)')].Passasjerer_Ombord.sum()\n",
    "antallPassMaanedJuli=dataframe[dataframe['Dato'].str.contains(r'(?!$)/07/(?!$)')].Passasjerer_Ombord.sum()\n",
    "antallPassMaanedAugust=dataframe[dataframe['Dato'].str.contains(r'(?!$)/08/(?!$)')].Passasjerer_Ombord.sum()"
   ]
  },
  {
   "cell_type": "code",
   "execution_count": 44,
   "metadata": {},
   "outputs": [
    {
     "data": {
      "text/html": [
       "<div>\n",
       "<style scoped>\n",
       "    .dataframe tbody tr th:only-of-type {\n",
       "        vertical-align: middle;\n",
       "    }\n",
       "\n",
       "    .dataframe tbody tr th {\n",
       "        vertical-align: top;\n",
       "    }\n",
       "\n",
       "    .dataframe thead th {\n",
       "        text-align: right;\n",
       "    }\n",
       "</style>\n",
       "<table border=\"1\" class=\"dataframe\">\n",
       "  <thead>\n",
       "    <tr style=\"text-align: right;\">\n",
       "      <th></th>\n",
       "      <th>Måned</th>\n",
       "      <th>Antall_Passasjerer</th>\n",
       "    </tr>\n",
       "  </thead>\n",
       "  <tbody>\n",
       "    <tr>\n",
       "      <th>0</th>\n",
       "      <td>Juni</td>\n",
       "      <td>8155</td>\n",
       "    </tr>\n",
       "    <tr>\n",
       "      <th>1</th>\n",
       "      <td>Juli</td>\n",
       "      <td>8157</td>\n",
       "    </tr>\n",
       "    <tr>\n",
       "      <th>2</th>\n",
       "      <td>August</td>\n",
       "      <td>10765</td>\n",
       "    </tr>\n",
       "  </tbody>\n",
       "</table>\n",
       "</div>"
      ],
      "text/plain": [
       "    Måned  Antall_Passasjerer\n",
       "0    Juni                8155\n",
       "1    Juli                8157\n",
       "2  August               10765"
      ]
     },
     "execution_count": 44,
     "metadata": {},
     "output_type": "execute_result"
    }
   ],
   "source": [
    "#Lager en dataframe med verdiene\n",
    "Antall_Passasjerer = {'Måned': ['Juni','Juli','August'],\n",
    "        'Antall_Passasjerer': [antallPassMaanedJuni,antallPassMaanedJuli,antallPassMaanedAugust]\n",
    "        }\n",
    "Antall_Passasjerer_df = panda.DataFrame(Antall_Passasjerer, columns = ['Måned', 'Antall_Passasjerer'])\n",
    "Antall_Passasjerer_df"
   ]
  },
  {
   "cell_type": "code",
   "execution_count": 18,
   "metadata": {},
   "outputs": [],
   "source": [
    "# 5: Data visualizations"
   ]
  },
  {
   "cell_type": "code",
   "execution_count": 45,
   "metadata": {},
   "outputs": [
    {
     "data": {
      "image/png": "[encoded data removed]",
      "text/plain": [
       "<Figure size 432x288 with 1 Axes>"
      ]
     },
     "metadata": {
      "needs_background": "light"
     },
     "output_type": "display_data"
    }
   ],
   "source": [
    "#1. Histogram som viser antall avganger i hvert fylke\n",
    "plot.hist(dataframe.Fylke, bins=4, rwidth=0.8)\n",
    "plot.xlabel('Fylke')\n",
    "plot.ylabel('Antall')\n",
    "plot.show()"
   ]
  },
  {
   "cell_type": "code",
   "execution_count": 46,
   "metadata": {},
   "outputs": [
    {
     "data": {
      "text/plain": [
       "<AxesSubplot:xlabel='Dato', ylabel='Passasjerer_Ombord'>"
      ]
     },
     "execution_count": 46,
     "metadata": {},
     "output_type": "execute_result"
    },
    {
     "data": {
      "image/png": "[encoded data removed]",
      "text/plain": [
       "<Figure size 432x288 with 1 Axes>"
      ]
     },
     "metadata": {
      "needs_background": "light"
     },
     "output_type": "display_data"
    }
   ],
   "source": [
    "#2. Sjekker hvordan Passasjerer_Ombord varierer iløpet av hele tidsperioden på stoppet \"Jenseberget\" på linje 100.\n",
    "# Ser av dato 21/08/2020 at vi har 2 prikker noe som viser at det var to avganger denne dagen og dette er grunnen til at et \n",
    "# scatterdiagram er nyttig i dette tilfellet.\n",
    "dataframe_scat = dataframe[dataframe['Holdeplass_Fra'] == 'Jenseberget']\n",
    "dataframe_scat = dataframe_scat[dataframe_scat['Linjenavn'] == '100']\n",
    "plot.xticks(rotation='vertical')\n",
    "sns.scatterplot(x='Dato', y='Passasjerer_Ombord', data=dataframe_scat)"
   ]
  },
  {
   "cell_type": "code",
   "execution_count": 47,
   "metadata": {},
   "outputs": [
    {
     "name": "stderr",
     "output_type": "stream",
     "text": [
      "D:\\SkoleApplikasjoner\\Anaconda3\\envs\\dave3625\\lib\\site-packages\\seaborn\\_decorators.py:36: FutureWarning: Pass the following variable as a keyword arg: x. From version 0.12, the only valid positional argument will be `data`, and passing other arguments without an explicit keyword will result in an error or misinterpretation.\n",
      "  warnings.warn(\n"
     ]
    },
    {
     "data": {
      "text/plain": [
       "<AxesSubplot:xlabel='Dato', ylabel='count'>"
      ]
     },
     "execution_count": 47,
     "metadata": {},
     "output_type": "execute_result"
    },
    {
     "data": {
      "image/png": "[encoded data removed]",
      "text/plain": [
       "<Figure size 1440x360 with 1 Axes>"
      ]
     },
     "metadata": {
      "needs_background": "light"
     },
     "output_type": "display_data"
    }
   ],
   "source": [
    "#3. Skal finne ut hvilke datoer det er flest avganger i indre by, Oslo og visualisere det i en bar chart\n",
    "plot.figure(figsize=(20,5))\n",
    "plot.xticks(rotation='vertical')\n",
    "dataframe_chart = dataframe[dataframe['Område'] == 'Indre By'].copy()\n",
    "dataframe_chart.Dato = panda.to_datetime(dataframe_chart['Dato'], format='%d/%m/%Y')\n",
    "dataframe_chart = dataframe_chart.sort_values('Dato')\n",
    "sns.countplot(dataframe_chart['Dato'])"
   ]
  },
  {
   "cell_type": "code",
   "execution_count": 48,
   "metadata": {},
   "outputs": [
    {
     "data": {
      "text/plain": [
       "<AxesSubplot:>"
      ]
     },
     "execution_count": 48,
     "metadata": {},
     "output_type": "execute_result"
    },
    {
     "data": {
      "image/png": "[encoded data removed]",
      "text/plain": [
       "<Figure size 432x288 with 1 Axes>"
      ]
     },
     "metadata": {
      "needs_background": "light"
     },
     "output_type": "display_data"
    }
   ],
   "source": [
    "# 4. Nå skal vi sammenligne hvor mange lokalbusser det er i forhold til andre linjetyper i et \n",
    "dataframe['Linjetype'].value_counts().sort_index().plot.bar()"
   ]
  },
  {
   "cell_type": "code",
   "execution_count": 49,
   "metadata": {},
   "outputs": [],
   "source": [
    "# 5. Ønsker å finne ut når på døgnet det er flest avganger\n",
    "#Lager ny dataframe som kun viser Tidspunkt planlagt avgang\n",
    "dataframe_time = dataframe[['Tidspunkt_Planlagt_Avgang_Holdeplass_Fra']].copy()"
   ]
  },
  {
   "cell_type": "code",
   "execution_count": 50,
   "metadata": {},
   "outputs": [],
   "source": [
    "#Bytter ut klokkeslettet med kun time.\n",
    "dataframe_time['Tidspunkt_Planlagt_Avgang_Holdeplass_Fra'] = dataframe_time['Tidspunkt_Planlagt_Avgang_Holdeplass_Fra'].str[:2]\n",
    "dataframe_time = dataframe_time.sort_values('Tidspunkt_Planlagt_Avgang_Holdeplass_Fra')"
   ]
  },
  {
   "cell_type": "code",
   "execution_count": 51,
   "metadata": {},
   "outputs": [
    {
     "data": {
      "image/png": "[encoded data removed]",
      "text/plain": [
       "<Figure size 432x288 with 1 Axes>"
      ]
     },
     "metadata": {
      "needs_background": "light"
     },
     "output_type": "display_data"
    },
    {
     "data": {
      "text/plain": [
       "<seaborn.axisgrid.FacetGrid at 0x193f0103280>"
      ]
     },
     "execution_count": 51,
     "metadata": {},
     "output_type": "execute_result"
    },
    {
     "data": {
      "image/png": "[encoded data removed]",
      "text/plain": [
       "<Figure size 360x360 with 1 Axes>"
      ]
     },
     "metadata": {
      "needs_background": "light"
     },
     "output_type": "display_data"
    }
   ],
   "source": [
    "plot.hist(dataframe_time.Tidspunkt_Planlagt_Avgang_Holdeplass_Fra, bins=25, rwidth=0.8)\n",
    "plot.xlabel('Time')\n",
    "plot.ylabel('Antall avganger')\n",
    "plot.show()\n",
    "sns.displot(dataframe_time['Tidspunkt_Planlagt_Avgang_Holdeplass_Fra'], bins=50, kde=True)"
   ]
  },
  {
   "cell_type": "code",
   "execution_count": null,
   "metadata": {},
   "outputs": [],
   "source": []
  },
  {
   "cell_type": "code",
   "execution_count": null,
   "metadata": {},
   "outputs": [],
   "source": []
  }
 ],
 "metadata": {
  "kernelspec": {
   "display_name": "Python 3",
   "language": "python",
   "name": "python3"
  },
  "language_info": {
   "codemirror_mode": {
    "name": "ipython",
    "version": 3
   },
   "file_extension": ".py",
   "mimetype": "text/x-python",
   "name": "python",
   "nbconvert_exporter": "python",
   "pygments_lexer": "ipython3",
   "version": "3.8.5"
  }
 },
 "nbformat": 4,
 "nbformat_minor": 4
}
